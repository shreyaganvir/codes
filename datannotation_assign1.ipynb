{
 "cells": [
  {
   "cell_type": "code",
   "execution_count": 40,
   "id": "660b426e-2d97-452e-a4bc-01c57b19f635",
   "metadata": {
    "tags": []
   },
   "outputs": [
    {
     "name": "stdout",
     "output_type": "stream",
     "text": [
      "down dont nine lot work silver east duck done tone bit stop sun deal huge moment poem hold make like possible clock of bought\n"
     ]
    }
   ],
   "source": [
    "'''\n",
    "\n",
    "file: decoder.py\n",
    "Function: script to decode message from input encoded message .txt file\n",
    "Output: decoded string\n",
    "Date: 26th February, 2024\n",
    "@author: Shreyali Ganvir\n",
    "\n",
    "'''\n",
    "\n",
    "# Read input encoded file\n",
    "def readfile(message_file):\n",
    "    \n",
    "    # parameters initialization\n",
    "    num_lst = []\n",
    "    num_words_dict = {}\n",
    "    \n",
    "    with open(message_file) as f:\n",
    "        for eachline in f.readlines():\n",
    "            num = eachline.rstrip(\"\\n\").split()[0]\n",
    "            if num.isnumeric():\n",
    "                num_lst.append(int(eachline.rstrip(\"\\n\").split()[0]))\n",
    "                num_words_dict[int(num)] = eachline.rstrip(\"\\n\").split()[-1] #create number to words reference dictionary to decode\n",
    "            else:\n",
    "                print(\"Error: input line {} not in correct format\".format(eachline)) # Flash error msg for wrong input and skip the line\n",
    "                continue               \n",
    "    return num_lst, num_words_dict\n",
    "\n",
    "\n",
    "# calculate no.of pyramid rows with len of num_lst from readfile func.\n",
    "def calculate_rows_for_pyramid(total_nums):\n",
    "    \n",
    "    # The triangular number sequence is the series of numbers 1, 3, 6, 10, 15, ... \n",
    "    # where each number is the sum of the integers from 1 to n. \n",
    "    # The nth triangular number is given by the formula: Tn = (n * (n +1))/2\n",
    "    \n",
    "    rows = 0\n",
    "    while rows * (rows + 1) / 2 < total_nums:\n",
    "        rows += 1\n",
    "    return rows\n",
    "\n",
    "\n",
    "# generate pyramid from mum_lst and rows\n",
    "def create_pyramid(num_lst):\n",
    "    \n",
    "    sorted_num_lst = sorted(num_lst) # sort the numbers list for ascending pyramid\n",
    "    len_sorted_num_lst = len(sorted_num_lst)\n",
    "    pyramid = []\n",
    "    num = 1\n",
    "    \n",
    "    rows = calculate_rows_for_pyramid(total_nums = len_sorted_num_lst) # calculate no.rows for pyramid generation\n",
    "        \n",
    "    for i in range(1, rows + 1):\n",
    "        row = list(range(num, num + i))\n",
    "        pyramid.append(row)\n",
    "        num += i\n",
    "    return pyramid\n",
    "\n",
    "\n",
    "# decode the message from input file\n",
    "def decode(message_file):\n",
    "    \n",
    "    # call readfile function to read input file\n",
    "    num_lst, num_words_dict = readfile(message_file)\n",
    "    sentence = []\n",
    "    \n",
    "    if num_lst:\n",
    "        pyramid = create_pyramid(num_lst)\n",
    "        \n",
    "        for eachrow in pyramid:\n",
    "            sentence.append(num_words_dict[eachrow[-1]]) # extract last element from each pyramid row and map to its reference word from dict\n",
    "            \n",
    "        print(' '.join(sentence)) # print list sentence into string using join func\n",
    "    \n",
    "    else:\n",
    "        print(\"Error: Numbers not found in input file\") # Flash error if numbers list is empty\n"
   ]
  },
  {
   "cell_type": "code",
   "execution_count": null,
   "id": "0d2d3e6d-2271-46e2-88a1-d141a665e8e9",
   "metadata": {},
   "outputs": [],
   "source": []
  }
 ],
 "metadata": {
  "kernelspec": {
   "display_name": "Python 3 (ipykernel)",
   "language": "python",
   "name": "python3"
  },
  "language_info": {
   "codemirror_mode": {
    "name": "ipython",
    "version": 3
   },
   "file_extension": ".py",
   "mimetype": "text/x-python",
   "name": "python",
   "nbconvert_exporter": "python",
   "pygments_lexer": "ipython3",
   "version": "3.11.5"
  }
 },
 "nbformat": 4,
 "nbformat_minor": 5
}
